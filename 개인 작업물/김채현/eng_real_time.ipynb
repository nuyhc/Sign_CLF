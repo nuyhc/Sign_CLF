{
 "cells": [
  {
   "cell_type": "markdown",
   "metadata": {},
   "source": [
    "# Real time Sign to Text (Eng Sign Lang.)\n",
    "### Sign Language MNIST\n",
    "![png](eng_sign\\sign_lang_tutorial.png)  \n",
    "z와 j는 유사한 수어가 존재하고 움직이는 방식으로 구분하는거 같음"
   ]
  },
  {
   "cell_type": "markdown",
   "metadata": {},
   "source": [
    "### 사용 라이브러리"
   ]
  },
  {
   "cell_type": "code",
   "execution_count": 64,
   "metadata": {},
   "outputs": [],
   "source": [
    "import numpy as np\n",
    "import pandas as pd\n",
    "import matplotlib.pyplot as plt\n",
    "import seaborn as sns\n",
    "import cv2\n",
    "from PIL import Image, ImageDraw\n",
    "import tkinter as tk\n",
    "import operator\n",
    "import os\n",
    "import glob\n",
    "\n",
    "from sklearn.preprocessing import LabelBinarizer\n",
    "from sklearn.model_selection import train_test_split\n",
    "from sklearn.metrics import accuracy_score\n",
    "\n",
    "import tensorflow as tf\n",
    "from tensorflow.keras.models import Sequential\n",
    "from tensorflow.keras.layers import Dense, Conv2D, MaxPooling2D, Flatten, Dropout\n",
    "from tensorflow.keras.callbacks import EarlyStopping"
   ]
  },
  {
   "cell_type": "markdown",
   "metadata": {},
   "source": [
    "### Data Load"
   ]
  },
  {
   "cell_type": "code",
   "execution_count": 10,
   "metadata": {},
   "outputs": [
    {
     "data": {
      "text/plain": [
       "((27455, 785), (7172, 785))"
      ]
     },
     "execution_count": 10,
     "metadata": {},
     "output_type": "execute_result"
    }
   ],
   "source": [
    "train = pd.read_csv(\"./eng_sign/sign_mnist_train.csv\")\n",
    "test = pd.read_csv(\"./eng_sign/sign_mnist_test.csv\")\n",
    "\n",
    "train.shape, test.shape"
   ]
  },
  {
   "cell_type": "code",
   "execution_count": 3,
   "metadata": {},
   "outputs": [
    {
     "data": {
      "text/html": [
       "<div>\n",
       "<style scoped>\n",
       "    .dataframe tbody tr th:only-of-type {\n",
       "        vertical-align: middle;\n",
       "    }\n",
       "\n",
       "    .dataframe tbody tr th {\n",
       "        vertical-align: top;\n",
       "    }\n",
       "\n",
       "    .dataframe thead th {\n",
       "        text-align: right;\n",
       "    }\n",
       "</style>\n",
       "<table border=\"1\" class=\"dataframe\">\n",
       "  <thead>\n",
       "    <tr style=\"text-align: right;\">\n",
       "      <th></th>\n",
       "      <th>label</th>\n",
       "      <th>pixel1</th>\n",
       "      <th>pixel2</th>\n",
       "      <th>pixel3</th>\n",
       "      <th>pixel4</th>\n",
       "      <th>pixel5</th>\n",
       "      <th>pixel6</th>\n",
       "      <th>pixel7</th>\n",
       "      <th>pixel8</th>\n",
       "      <th>pixel9</th>\n",
       "      <th>...</th>\n",
       "      <th>pixel775</th>\n",
       "      <th>pixel776</th>\n",
       "      <th>pixel777</th>\n",
       "      <th>pixel778</th>\n",
       "      <th>pixel779</th>\n",
       "      <th>pixel780</th>\n",
       "      <th>pixel781</th>\n",
       "      <th>pixel782</th>\n",
       "      <th>pixel783</th>\n",
       "      <th>pixel784</th>\n",
       "    </tr>\n",
       "  </thead>\n",
       "  <tbody>\n",
       "    <tr>\n",
       "      <th>1636</th>\n",
       "      <td>14</td>\n",
       "      <td>190</td>\n",
       "      <td>191</td>\n",
       "      <td>193</td>\n",
       "      <td>194</td>\n",
       "      <td>194</td>\n",
       "      <td>196</td>\n",
       "      <td>197</td>\n",
       "      <td>198</td>\n",
       "      <td>198</td>\n",
       "      <td>...</td>\n",
       "      <td>233</td>\n",
       "      <td>232</td>\n",
       "      <td>233</td>\n",
       "      <td>235</td>\n",
       "      <td>234</td>\n",
       "      <td>233</td>\n",
       "      <td>234</td>\n",
       "      <td>233</td>\n",
       "      <td>232</td>\n",
       "      <td>232</td>\n",
       "    </tr>\n",
       "    <tr>\n",
       "      <th>11455</th>\n",
       "      <td>1</td>\n",
       "      <td>140</td>\n",
       "      <td>145</td>\n",
       "      <td>149</td>\n",
       "      <td>153</td>\n",
       "      <td>155</td>\n",
       "      <td>157</td>\n",
       "      <td>160</td>\n",
       "      <td>162</td>\n",
       "      <td>163</td>\n",
       "      <td>...</td>\n",
       "      <td>3</td>\n",
       "      <td>31</td>\n",
       "      <td>43</td>\n",
       "      <td>31</td>\n",
       "      <td>29</td>\n",
       "      <td>28</td>\n",
       "      <td>23</td>\n",
       "      <td>29</td>\n",
       "      <td>32</td>\n",
       "      <td>26</td>\n",
       "    </tr>\n",
       "    <tr>\n",
       "      <th>16941</th>\n",
       "      <td>0</td>\n",
       "      <td>46</td>\n",
       "      <td>91</td>\n",
       "      <td>88</td>\n",
       "      <td>11</td>\n",
       "      <td>14</td>\n",
       "      <td>52</td>\n",
       "      <td>54</td>\n",
       "      <td>60</td>\n",
       "      <td>66</td>\n",
       "      <td>...</td>\n",
       "      <td>93</td>\n",
       "      <td>68</td>\n",
       "      <td>114</td>\n",
       "      <td>168</td>\n",
       "      <td>161</td>\n",
       "      <td>166</td>\n",
       "      <td>169</td>\n",
       "      <td>172</td>\n",
       "      <td>174</td>\n",
       "      <td>176</td>\n",
       "    </tr>\n",
       "  </tbody>\n",
       "</table>\n",
       "<p>3 rows × 785 columns</p>\n",
       "</div>"
      ],
      "text/plain": [
       "       label  pixel1  pixel2  pixel3  pixel4  pixel5  pixel6  pixel7  pixel8  \\\n",
       "1636      14     190     191     193     194     194     196     197     198   \n",
       "11455      1     140     145     149     153     155     157     160     162   \n",
       "16941      0      46      91      88      11      14      52      54      60   \n",
       "\n",
       "       pixel9  ...  pixel775  pixel776  pixel777  pixel778  pixel779  \\\n",
       "1636      198  ...       233       232       233       235       234   \n",
       "11455     163  ...         3        31        43        31        29   \n",
       "16941      66  ...        93        68       114       168       161   \n",
       "\n",
       "       pixel780  pixel781  pixel782  pixel783  pixel784  \n",
       "1636        233       234       233       232       232  \n",
       "11455        28        23        29        32        26  \n",
       "16941       166       169       172       174       176  \n",
       "\n",
       "[3 rows x 785 columns]"
      ]
     },
     "metadata": {},
     "output_type": "display_data"
    },
    {
     "data": {
      "text/html": [
       "<div>\n",
       "<style scoped>\n",
       "    .dataframe tbody tr th:only-of-type {\n",
       "        vertical-align: middle;\n",
       "    }\n",
       "\n",
       "    .dataframe tbody tr th {\n",
       "        vertical-align: top;\n",
       "    }\n",
       "\n",
       "    .dataframe thead th {\n",
       "        text-align: right;\n",
       "    }\n",
       "</style>\n",
       "<table border=\"1\" class=\"dataframe\">\n",
       "  <thead>\n",
       "    <tr style=\"text-align: right;\">\n",
       "      <th></th>\n",
       "      <th>label</th>\n",
       "      <th>pixel1</th>\n",
       "      <th>pixel2</th>\n",
       "      <th>pixel3</th>\n",
       "      <th>pixel4</th>\n",
       "      <th>pixel5</th>\n",
       "      <th>pixel6</th>\n",
       "      <th>pixel7</th>\n",
       "      <th>pixel8</th>\n",
       "      <th>pixel9</th>\n",
       "      <th>...</th>\n",
       "      <th>pixel775</th>\n",
       "      <th>pixel776</th>\n",
       "      <th>pixel777</th>\n",
       "      <th>pixel778</th>\n",
       "      <th>pixel779</th>\n",
       "      <th>pixel780</th>\n",
       "      <th>pixel781</th>\n",
       "      <th>pixel782</th>\n",
       "      <th>pixel783</th>\n",
       "      <th>pixel784</th>\n",
       "    </tr>\n",
       "  </thead>\n",
       "  <tbody>\n",
       "    <tr>\n",
       "      <th>4216</th>\n",
       "      <td>4</td>\n",
       "      <td>188</td>\n",
       "      <td>189</td>\n",
       "      <td>189</td>\n",
       "      <td>191</td>\n",
       "      <td>191</td>\n",
       "      <td>189</td>\n",
       "      <td>189</td>\n",
       "      <td>189</td>\n",
       "      <td>190</td>\n",
       "      <td>...</td>\n",
       "      <td>222</td>\n",
       "      <td>225</td>\n",
       "      <td>225</td>\n",
       "      <td>223</td>\n",
       "      <td>223</td>\n",
       "      <td>221</td>\n",
       "      <td>218</td>\n",
       "      <td>216</td>\n",
       "      <td>215</td>\n",
       "      <td>213</td>\n",
       "    </tr>\n",
       "    <tr>\n",
       "      <th>4172</th>\n",
       "      <td>8</td>\n",
       "      <td>180</td>\n",
       "      <td>181</td>\n",
       "      <td>183</td>\n",
       "      <td>183</td>\n",
       "      <td>185</td>\n",
       "      <td>185</td>\n",
       "      <td>186</td>\n",
       "      <td>187</td>\n",
       "      <td>186</td>\n",
       "      <td>...</td>\n",
       "      <td>80</td>\n",
       "      <td>150</td>\n",
       "      <td>221</td>\n",
       "      <td>210</td>\n",
       "      <td>211</td>\n",
       "      <td>211</td>\n",
       "      <td>209</td>\n",
       "      <td>208</td>\n",
       "      <td>206</td>\n",
       "      <td>204</td>\n",
       "    </tr>\n",
       "    <tr>\n",
       "      <th>890</th>\n",
       "      <td>15</td>\n",
       "      <td>86</td>\n",
       "      <td>83</td>\n",
       "      <td>81</td>\n",
       "      <td>81</td>\n",
       "      <td>83</td>\n",
       "      <td>85</td>\n",
       "      <td>85</td>\n",
       "      <td>86</td>\n",
       "      <td>89</td>\n",
       "      <td>...</td>\n",
       "      <td>119</td>\n",
       "      <td>119</td>\n",
       "      <td>118</td>\n",
       "      <td>118</td>\n",
       "      <td>117</td>\n",
       "      <td>123</td>\n",
       "      <td>196</td>\n",
       "      <td>187</td>\n",
       "      <td>165</td>\n",
       "      <td>156</td>\n",
       "    </tr>\n",
       "  </tbody>\n",
       "</table>\n",
       "<p>3 rows × 785 columns</p>\n",
       "</div>"
      ],
      "text/plain": [
       "      label  pixel1  pixel2  pixel3  pixel4  pixel5  pixel6  pixel7  pixel8  \\\n",
       "4216      4     188     189     189     191     191     189     189     189   \n",
       "4172      8     180     181     183     183     185     185     186     187   \n",
       "890      15      86      83      81      81      83      85      85      86   \n",
       "\n",
       "      pixel9  ...  pixel775  pixel776  pixel777  pixel778  pixel779  pixel780  \\\n",
       "4216     190  ...       222       225       225       223       223       221   \n",
       "4172     186  ...        80       150       221       210       211       211   \n",
       "890       89  ...       119       119       118       118       117       123   \n",
       "\n",
       "      pixel781  pixel782  pixel783  pixel784  \n",
       "4216       218       216       215       213  \n",
       "4172       209       208       206       204  \n",
       "890        196       187       165       156  \n",
       "\n",
       "[3 rows x 785 columns]"
      ]
     },
     "metadata": {},
     "output_type": "display_data"
    }
   ],
   "source": [
    "display(train.sample(3))\n",
    "display(test.sample(3))"
   ]
  },
  {
   "cell_type": "markdown",
   "metadata": {},
   "source": [
    "### Label"
   ]
  },
  {
   "cell_type": "code",
   "execution_count": 11,
   "metadata": {},
   "outputs": [],
   "source": [
    "labels = train[\"label\"].values\n",
    "unique_val = np.array(labels)"
   ]
  },
  {
   "cell_type": "code",
   "execution_count": 5,
   "metadata": {},
   "outputs": [
    {
     "data": {
      "text/plain": [
       "array([ 0,  1,  2,  3,  4,  5,  6,  7,  8, 10, 11, 12, 13, 14, 15, 16, 17,\n",
       "       18, 19, 20, 21, 22, 23, 24], dtype=int64)"
      ]
     },
     "execution_count": 5,
     "metadata": {},
     "output_type": "execute_result"
    }
   ],
   "source": [
    "np.unique(unique_val)"
   ]
  },
  {
   "cell_type": "markdown",
   "metadata": {},
   "source": [
    "J와 Z는 해당 데이터셋에 존재하지 않음"
   ]
  },
  {
   "cell_type": "markdown",
   "metadata": {},
   "source": [
    "### Data Distribution"
   ]
  },
  {
   "cell_type": "code",
   "execution_count": 6,
   "metadata": {},
   "outputs": [
    {
     "data": {
      "image/png": "[encoded data removed]",
      "text/plain": [
       "<Figure size 432x288 with 1 Axes>"
      ]
     },
     "metadata": {
      "needs_background": "light"
     },
     "output_type": "display_data"
    }
   ],
   "source": [
    "_ = sns.countplot(x=labels)"
   ]
  },
  {
   "cell_type": "markdown",
   "metadata": {},
   "source": [
    "### Data Preprocessing"
   ]
  },
  {
   "cell_type": "code",
   "execution_count": 12,
   "metadata": {},
   "outputs": [],
   "source": [
    "train.drop(columns=\"label\", axis=1, inplace=True)"
   ]
  },
  {
   "cell_type": "code",
   "execution_count": 13,
   "metadata": {},
   "outputs": [],
   "source": [
    "imgs = train.values\n",
    "imgs = np.array([np.reshape(i, (28, 28)) for i in imgs]) # 28 by 28로 사이즈 변경\n",
    "imgs = np.array([i.flatten() for i in imgs])"
   ]
  },
  {
   "cell_type": "code",
   "execution_count": 14,
   "metadata": {},
   "outputs": [],
   "source": [
    "# 라벨 인코딩\n",
    "label_binrizer = LabelBinarizer()\n",
    "labels = label_binrizer.fit_transform(labels)"
   ]
  },
  {
   "cell_type": "markdown",
   "metadata": {},
   "source": [
    "### Display Images (Data)"
   ]
  },
  {
   "cell_type": "code",
   "execution_count": 18,
   "metadata": {},
   "outputs": [
    {
     "data": {
      "image/png": "[encoded data removed]",
      "text/plain": [
       "<Figure size 864x864 with 25 Axes>"
      ]
     },
     "metadata": {
      "needs_background": "light"
     },
     "output_type": "display_data"
    }
   ],
   "source": [
    "plt.figure(figsize=(12, 12))\n",
    "for idx in range(25):\n",
    "    plt.subplot(5, 5, idx+1)\n",
    "    plt.imshow(imgs[idx].reshape(28, 28))"
   ]
  },
  {
   "cell_type": "code",
   "execution_count": 57,
   "metadata": {},
   "outputs": [],
   "source": [
    "# openCV로 확인\n",
    "for idx in range(25):\n",
    "    rand = np.random.randint(0, len(imgs))\n",
    "    sample_img = imgs[rand]\n",
    "    sample_img = sample_img.reshape(28, 28).astype(np.uint8)\n",
    "    sample_img = cv2.resize(sample_img, None, fx=10, fy=10, interpolation=cv2.INTER_CUBIC)\n",
    "    cv2.imshow(\"Sample\", sample_img)\n",
    "    cv2.waitKey(0)\n",
    "cv2.destroyAllWindows()"
   ]
  },
  {
   "cell_type": "markdown",
   "metadata": {},
   "source": [
    "### Data Split"
   ]
  },
  {
   "cell_type": "code",
   "execution_count": 7,
   "metadata": {},
   "outputs": [
    {
     "name": "stdout",
     "output_type": "stream",
     "text": [
      "x_train: (21964, 784)\n",
      "y_train: (21964, 24)\n",
      "x_test: (5491, 784)\n",
      "y_test: (5491, 24)\n"
     ]
    }
   ],
   "source": [
    "x_train, x_test, y_train, y_test = train_test_split(imgs, labels, test_size=0.2)\n",
    "\n",
    "print(f\"x_train: {x_train.shape}\\ny_train: {y_train.shape}\\nx_test: {x_test.shape}\\ny_test: {y_test.shape}\")"
   ]
  },
  {
   "cell_type": "code",
   "execution_count": 8,
   "metadata": {},
   "outputs": [],
   "source": [
    "x_train = x_train/255\n",
    "x_test = x_test/255"
   ]
  },
  {
   "cell_type": "markdown",
   "metadata": {},
   "source": [
    "### Modeling"
   ]
  },
  {
   "cell_type": "code",
   "execution_count": 9,
   "metadata": {},
   "outputs": [],
   "source": [
    "x_train = x_train.reshape(x_train.shape[0], 28, 28, 1)\n",
    "x_test = x_test.reshape(x_test.shape[0], 28, 28, 1)"
   ]
  },
  {
   "cell_type": "code",
   "execution_count": 10,
   "metadata": {},
   "outputs": [],
   "source": [
    "# CNN model\n",
    "model = Sequential()\n",
    "# Conv layer 1\n",
    "model.add(Conv2D(64, kernel_size=(3, 3), activation=\"relu\", input_shape=(28, 28, 1)))\n",
    "model.add(MaxPooling2D(pool_size=(2, 2)))\n",
    "# Conv layer 2\n",
    "model.add(Conv2D(64, kernel_size=(3, 3), activation=\"relu\"))\n",
    "model.add(MaxPooling2D(pool_size=(2, 2)))\n",
    "# Conv layer 3\n",
    "model.add(Conv2D(64, kernel_size=(3, 3), activation=\"relu\"))\n",
    "model.add(MaxPooling2D(pool_size=(2, 2)))\n",
    "# Ouput layer\n",
    "model.add(Flatten())\n",
    "model.add(Dense(128, activation=\"relu\"))\n",
    "model.add(Dropout(0.2))\n",
    "model.add(Dense(24, activation=\"softmax\"))"
   ]
  },
  {
   "cell_type": "code",
   "execution_count": 11,
   "metadata": {},
   "outputs": [],
   "source": [
    "model.compile(\n",
    "    optimizer=\"adam\",\n",
    "    loss = tf.keras.losses.CategoricalCrossentropy(),\n",
    "    metrics=[\"accuracy\"]\n",
    ")"
   ]
  },
  {
   "cell_type": "code",
   "execution_count": 30,
   "metadata": {},
   "outputs": [
    {
     "name": "stdout",
     "output_type": "stream",
     "text": [
      "Model: \"sequential\"\n",
      "_________________________________________________________________\n",
      "Layer (type)                 Output Shape              Param #   \n",
      "=================================================================\n",
      "conv2d (Conv2D)              (None, 26, 26, 64)        640       \n",
      "_________________________________________________________________\n",
      "max_pooling2d (MaxPooling2D) (None, 13, 13, 64)        0         \n",
      "_________________________________________________________________\n",
      "conv2d_1 (Conv2D)            (None, 11, 11, 64)        36928     \n",
      "_________________________________________________________________\n",
      "max_pooling2d_1 (MaxPooling2 (None, 5, 5, 64)          0         \n",
      "_________________________________________________________________\n",
      "conv2d_2 (Conv2D)            (None, 3, 3, 64)          36928     \n",
      "_________________________________________________________________\n",
      "max_pooling2d_2 (MaxPooling2 (None, 1, 1, 64)          0         \n",
      "_________________________________________________________________\n",
      "flatten (Flatten)            (None, 64)                0         \n",
      "_________________________________________________________________\n",
      "dense (Dense)                (None, 128)               8320      \n",
      "_________________________________________________________________\n",
      "dropout (Dropout)            (None, 128)               0         \n",
      "_________________________________________________________________\n",
      "dense_1 (Dense)              (None, 24)                3096      \n",
      "=================================================================\n",
      "Total params: 85,912\n",
      "Trainable params: 85,912\n",
      "Non-trainable params: 0\n",
      "_________________________________________________________________\n"
     ]
    }
   ],
   "source": [
    "model.summary()"
   ]
  },
  {
   "cell_type": "code",
   "execution_count": 12,
   "metadata": {},
   "outputs": [],
   "source": [
    "early_stopping = EarlyStopping(monitor=\"val_accuracy\", mode=\"max\", verbose=0, patience=10)"
   ]
  },
  {
   "cell_type": "code",
   "execution_count": 13,
   "metadata": {},
   "outputs": [
    {
     "name": "stdout",
     "output_type": "stream",
     "text": [
      "Epoch 1/50\n",
      "172/172 [==============================] - 29s 108ms/step - loss: 2.5225 - accuracy: 0.2308 - val_loss: 1.4543 - val_accuracy: 0.5529\n",
      "Epoch 2/50\n",
      "172/172 [==============================] - 8s 44ms/step - loss: 1.1235 - accuracy: 0.6200 - val_loss: 0.6265 - val_accuracy: 0.8011\n",
      "Epoch 3/50\n",
      "172/172 [==============================] - 5s 32ms/step - loss: 0.6152 - accuracy: 0.7904 - val_loss: 0.3410 - val_accuracy: 0.9082\n",
      "Epoch 4/50\n",
      "172/172 [==============================] - 7s 41ms/step - loss: 0.3651 - accuracy: 0.8814 - val_loss: 0.1954 - val_accuracy: 0.9494\n",
      "Epoch 5/50\n",
      "172/172 [==============================] - 16s 93ms/step - loss: 0.2374 - accuracy: 0.9231 - val_loss: 0.1058 - val_accuracy: 0.9803\n",
      "Epoch 6/50\n",
      "172/172 [==============================] - 10s 58ms/step - loss: 0.1513 - accuracy: 0.9536 - val_loss: 0.0602 - val_accuracy: 0.9911\n",
      "Epoch 7/50\n",
      "172/172 [==============================] - 5s 31ms/step - loss: 0.1027 - accuracy: 0.9707 - val_loss: 0.0409 - val_accuracy: 0.9905\n",
      "Epoch 8/50\n",
      "172/172 [==============================] - 10s 58ms/step - loss: 0.0679 - accuracy: 0.9815 - val_loss: 0.0219 - val_accuracy: 0.9971\n",
      "Epoch 9/50\n",
      "172/172 [==============================] - 7s 39ms/step - loss: 0.0563 - accuracy: 0.9842 - val_loss: 0.0167 - val_accuracy: 0.9982\n",
      "Epoch 10/50\n",
      "172/172 [==============================] - 14s 83ms/step - loss: 0.0377 - accuracy: 0.9906 - val_loss: 0.0089 - val_accuracy: 0.9995\n",
      "Epoch 11/50\n",
      "172/172 [==============================] - 10s 57ms/step - loss: 0.0307 - accuracy: 0.9921 - val_loss: 0.0106 - val_accuracy: 0.9987\n",
      "Epoch 12/50\n",
      "172/172 [==============================] - 10s 59ms/step - loss: 0.0253 - accuracy: 0.9933 - val_loss: 0.0067 - val_accuracy: 0.9995\n",
      "Epoch 13/50\n",
      "172/172 [==============================] - 6s 38ms/step - loss: 0.0204 - accuracy: 0.9946 - val_loss: 0.0068 - val_accuracy: 0.9991\n",
      "Epoch 14/50\n",
      "172/172 [==============================] - 8s 48ms/step - loss: 0.0182 - accuracy: 0.9957 - val_loss: 0.0027 - val_accuracy: 0.9998\n",
      "Epoch 15/50\n",
      "172/172 [==============================] - 8s 46ms/step - loss: 0.0112 - accuracy: 0.9980 - val_loss: 0.0054 - val_accuracy: 0.9989\n",
      "Epoch 16/50\n",
      "172/172 [==============================] - 8s 48ms/step - loss: 0.0165 - accuracy: 0.9955 - val_loss: 0.0025 - val_accuracy: 0.9995\n",
      "Epoch 17/50\n",
      "172/172 [==============================] - 9s 51ms/step - loss: 0.0110 - accuracy: 0.9970 - val_loss: 0.0016 - val_accuracy: 1.0000\n",
      "Epoch 18/50\n",
      "172/172 [==============================] - 12s 68ms/step - loss: 0.0146 - accuracy: 0.9959 - val_loss: 0.0016 - val_accuracy: 0.9998\n",
      "Epoch 19/50\n",
      "172/172 [==============================] - 11s 64ms/step - loss: 0.0126 - accuracy: 0.9965 - val_loss: 0.0025 - val_accuracy: 0.9998\n",
      "Epoch 20/50\n",
      "172/172 [==============================] - 3s 16ms/step - loss: 0.0137 - accuracy: 0.9963 - val_loss: 0.0028 - val_accuracy: 0.9993\n",
      "Epoch 21/50\n",
      "172/172 [==============================] - 8s 48ms/step - loss: 0.0114 - accuracy: 0.9971 - val_loss: 9.8515e-04 - val_accuracy: 1.0000\n",
      "Epoch 22/50\n",
      "172/172 [==============================] - 9s 55ms/step - loss: 0.0071 - accuracy: 0.9981 - val_loss: 0.0012 - val_accuracy: 0.9998\n",
      "Epoch 23/50\n",
      "172/172 [==============================] - 12s 67ms/step - loss: 0.0065 - accuracy: 0.9984 - val_loss: 8.9126e-04 - val_accuracy: 1.0000\n",
      "Epoch 24/50\n",
      "172/172 [==============================] - 1s 8ms/step - loss: 0.0186 - accuracy: 0.9941 - val_loss: 0.0028 - val_accuracy: 0.9998\n",
      "Epoch 25/50\n",
      "172/172 [==============================] - 3s 15ms/step - loss: 0.0074 - accuracy: 0.9978 - val_loss: 9.5351e-04 - val_accuracy: 0.9998\n",
      "Epoch 26/50\n",
      "172/172 [==============================] - 2s 11ms/step - loss: 0.0049 - accuracy: 0.9989 - val_loss: 0.0024 - val_accuracy: 0.9998\n",
      "Epoch 27/50\n",
      "172/172 [==============================] - 2s 11ms/step - loss: 0.0154 - accuracy: 0.9948 - val_loss: 0.0053 - val_accuracy: 0.9987\n"
     ]
    }
   ],
   "source": [
    "with tf.device(\"/device:GPU:0\"):\n",
    "    history = model.fit(x_train, y_train, validation_data=(x_test, y_test), epochs=50, batch_size=128, verbose=1, callbacks=[early_stopping])"
   ]
  },
  {
   "cell_type": "code",
   "execution_count": 14,
   "metadata": {},
   "outputs": [],
   "source": [
    "model.save(\"eng_sign_lang_cnn_epochs50_27.h5\")"
   ]
  },
  {
   "cell_type": "code",
   "execution_count": 20,
   "metadata": {},
   "outputs": [
    {
     "data": {
      "image/png": "[encoded data removed]",
      "text/plain": [
       "<Figure size 1080x360 with 2 Axes>"
      ]
     },
     "metadata": {
      "needs_background": "light"
     },
     "output_type": "display_data"
    }
   ],
   "source": [
    "df_hist = pd.DataFrame(history.history)\n",
    "fig, ax = plt.subplots(1, 2, figsize=(15, 5))\n",
    "_ = df_hist[[\"loss\", \"val_loss\"]].plot(ax=ax[0])\n",
    "_ = df_hist[[\"accuracy\", \"val_accuracy\"]].plot(ax=ax[1])"
   ]
  },
  {
   "cell_type": "markdown",
   "metadata": {},
   "source": [
    "### Evaluation"
   ]
  },
  {
   "cell_type": "code",
   "execution_count": 15,
   "metadata": {},
   "outputs": [],
   "source": [
    "test_labels = test[\"label\"]\n",
    "test.drop(columns=\"label\", axis=1, inplace=True)\n",
    "\n",
    "test_img = test.values\n",
    "test_img = np.array([np.reshape(i, (28, 28)) for i in test_img])\n",
    "test_img = np.array([i.flatten() for i in test_img])\n",
    "\n",
    "test_labels = label_binrizer.transform(test_labels)\n",
    "\n",
    "test_img = test_img.reshape(test_img.shape[0], 28, 28, 1)\n",
    "\n",
    "y_pred = model.predict(test_img)"
   ]
  },
  {
   "cell_type": "code",
   "execution_count": 16,
   "metadata": {},
   "outputs": [
    {
     "data": {
      "text/plain": [
       "0.7968488566648075"
      ]
     },
     "execution_count": 16,
     "metadata": {},
     "output_type": "execute_result"
    }
   ],
   "source": [
    "accuracy_score(test_labels, y_pred.round())"
   ]
  },
  {
   "cell_type": "markdown",
   "metadata": {},
   "source": [
    "층을 깊게 안쌓아서 그런지 성능이 그렇게 좋지는 못함"
   ]
  },
  {
   "cell_type": "markdown",
   "metadata": {},
   "source": [
    "### Matching func."
   ]
  },
  {
   "cell_type": "code",
   "execution_count": 2,
   "metadata": {},
   "outputs": [],
   "source": [
    "alpha = [chr(x).upper() for x in range(97, 123)]\n",
    "alpha.remove(\"J\")\n",
    "alpha.remove(\"Z\")\n",
    "idx = [x for x in range(0, 24)]"
   ]
  },
  {
   "cell_type": "code",
   "execution_count": 3,
   "metadata": {},
   "outputs": [],
   "source": [
    "def convert_letter(result):\n",
    "    classLabels = {idx:c for idx, c in zip(idx, alpha)}\n",
    "    try:\n",
    "        res = int(result)\n",
    "        return classLabels[res]\n",
    "    except:\n",
    "        return \"err\""
   ]
  },
  {
   "cell_type": "code",
   "execution_count": 31,
   "metadata": {},
   "outputs": [
    {
     "data": {
      "text/plain": [
       "'D'"
      ]
     },
     "execution_count": 31,
     "metadata": {},
     "output_type": "execute_result"
    }
   ],
   "source": [
    "convert_letter(np.argmax(model.predict(test_img[4].reshape(1, 28, 28, 1))))"
   ]
  },
  {
   "cell_type": "markdown",
   "metadata": {},
   "source": [
    "### Test on Real Time"
   ]
  },
  {
   "cell_type": "code",
   "execution_count": 4,
   "metadata": {},
   "outputs": [],
   "source": [
    "model = tf.keras.models.load_model(\"./eng_sign_lang_cnn_epochs50_27.h5\")"
   ]
  },
  {
   "cell_type": "code",
   "execution_count": 7,
   "metadata": {},
   "outputs": [],
   "source": [
    "cap = cv2.VideoCapture(0)\n",
    "cap.set(cv2.CAP_PROP_FRAME_WIDTH, 640)\n",
    "cap.set(cv2.CAP_PROP_FRAME_HEIGHT, 480)\n",
    "\n",
    "while True:\n",
    "    ret, frame = cap.read()\n",
    "    # frame = cv2.flip(frame, 1)\n",
    "    \n",
    "    roi = frame[100:400, 300:600]\n",
    "    # cv2.imshow(\"roi\", roi)\n",
    "    roi = cv2.cvtColor(roi, cv2.COLOR_BGR2GRAY)\n",
    "    roi = cv2.resize(roi, (28, 28), interpolation=cv2.INTER_AREA)\n",
    "    roi = roi.reshape(1, 28, 28, 1)\n",
    "    \n",
    "    result = convert_letter(np.argmax(model.predict(roi)))\n",
    "    \n",
    "    cv2.putText(frame, result, (300, 100), cv2.FONT_HERSHEY_DUPLEX, 2, (255, 0, 0), 2)\n",
    "    cv2.rectangle(frame, pt1=(320, 100), pt2=(620, 400), color=(255, 0, 0), thickness=3)\n",
    "    cv2.imshow(\"Sign Translator\", frame)\n",
    "    \n",
    "    if cv2.waitKey(1)==ord(\"q\"): break\n",
    "    \n",
    "cap.release()\n",
    "cv2.destroyAllWindows()"
   ]
  }
 ],
 "metadata": {
  "kernelspec": {
   "display_name": "Python 3.9.12 ('tf')",
   "language": "python",
   "name": "python3"
  },
  "language_info": {
   "codemirror_mode": {
    "name": "ipython",
    "version": 3
   },
   "file_extension": ".py",
   "mimetype": "text/x-python",
   "name": "python",
   "nbconvert_exporter": "python",
   "pygments_lexer": "ipython3",
   "version": "3.9.12"
  },
  "orig_nbformat": 4,
  "vscode": {
   "interpreter": {
    "hash": "0dda229299321da99d0dbf63d1fbc8b04ca069326b7e356b1394d150d10bd532"
   }
  }
 },
 "nbformat": 4,
 "nbformat_minor": 2
}
