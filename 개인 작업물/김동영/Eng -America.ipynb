{
 "cells": [
  {
   "cell_type": "markdown",
   "id": "9b4ca6e8",
   "metadata": {},
   "source": [
    "# 라이브러리 로드"
   ]
  },
  {
   "cell_type": "code",
   "execution_count": 2,
   "id": "7c1646a4",
   "metadata": {},
   "outputs": [
    {
     "name": "stdout",
     "output_type": "stream",
     "text": [
      "./input\\sign_mnist_test.csv\n",
      "./input\\sign_mnist_train.csv\n"
     ]
    }
   ],
   "source": [
    "import numpy as np\n",
    "import pandas as pd\n",
    "\n",
    "import os\n",
    "for dirname, _, filenames in os.walk('./input'):\n",
    "    for filename in filenames:\n",
    "        print(os.path.join(dirname, filename))"
   ]
  },
  {
   "cell_type": "code",
   "execution_count": 3,
   "id": "f903c533",
   "metadata": {},
   "outputs": [],
   "source": [
    "import matplotlib.pyplot as plt\n",
    "import seaborn as sns\n",
    "import keras\n",
    "from keras.models import Sequential\n",
    "from keras.layers import Dense, Conv2D , MaxPool2D , Flatten , Dropout , BatchNormalization\n",
    "from keras.preprocessing.image import ImageDataGenerator\n",
    "from sklearn.model_selection import train_test_split\n",
    "from sklearn.metrics import classification_report,confusion_matrix\n",
    "from keras.callbacks import ReduceLROnPlateau\n",
    "from tensorflow.keras.callbacks import EarlyStopping, ModelCheckpoint"
   ]
  },
  {
   "cell_type": "markdown",
   "id": "bb81c10b",
   "metadata": {},
   "source": [
    "# 데이터 로드"
   ]
  },
  {
   "cell_type": "code",
   "execution_count": 4,
   "id": "42c845ba",
   "metadata": {},
   "outputs": [],
   "source": [
    "train = pd.read_csv(\"./input/sign_mnist_train.csv\")\n",
    "test = pd.read_csv(\"./input/sign_mnist_test.csv\")"
   ]
  },
  {
   "cell_type": "markdown",
   "id": "2e7efb4f",
   "metadata": {},
   "source": [
    "# 데이터 확인 및 전처리"
   ]
  },
  {
   "cell_type": "code",
   "execution_count": 5,
   "id": "e15805be",
   "metadata": {},
   "outputs": [
    {
     "data": {
      "text/plain": [
       "0        6\n",
       "1        5\n",
       "2       10\n",
       "3        0\n",
       "4        3\n",
       "        ..\n",
       "7167     1\n",
       "7168    12\n",
       "7169     2\n",
       "7170     4\n",
       "7171     2\n",
       "Name: label, Length: 7172, dtype: int64"
      ]
     },
     "execution_count": 5,
     "metadata": {},
     "output_type": "execute_result"
    }
   ],
   "source": [
    "\n",
    "y = test['label']\n",
    "y"
   ]
  },
  {
   "cell_type": "code",
   "execution_count": 6,
   "id": "61631d1e",
   "metadata": {},
   "outputs": [
    {
     "data": {
      "text/plain": [
       "0        6\n",
       "1        5\n",
       "2       10\n",
       "3        0\n",
       "4        3\n",
       "        ..\n",
       "7167     1\n",
       "7168    12\n",
       "7169     2\n",
       "7170     4\n",
       "7171     2\n",
       "Name: label, Length: 7172, dtype: int64"
      ]
     },
     "execution_count": 6,
     "metadata": {},
     "output_type": "execute_result"
    }
   ],
   "source": [
    "test['label']"
   ]
  },
  {
   "cell_type": "code",
   "execution_count": 7,
   "id": "81139a36",
   "metadata": {},
   "outputs": [
    {
     "data": {
      "text/html": [
       "<div>\n",
       "<style scoped>\n",
       "    .dataframe tbody tr th:only-of-type {\n",
       "        vertical-align: middle;\n",
       "    }\n",
       "\n",
       "    .dataframe tbody tr th {\n",
       "        vertical-align: top;\n",
       "    }\n",
       "\n",
       "    .dataframe thead th {\n",
       "        text-align: right;\n",
       "    }\n",
       "</style>\n",
       "<table border=\"1\" class=\"dataframe\">\n",
       "  <thead>\n",
       "    <tr style=\"text-align: right;\">\n",
       "      <th></th>\n",
       "      <th>label</th>\n",
       "      <th>pixel1</th>\n",
       "      <th>pixel2</th>\n",
       "      <th>pixel3</th>\n",
       "      <th>pixel4</th>\n",
       "      <th>pixel5</th>\n",
       "      <th>pixel6</th>\n",
       "      <th>pixel7</th>\n",
       "      <th>pixel8</th>\n",
       "      <th>pixel9</th>\n",
       "      <th>...</th>\n",
       "      <th>pixel775</th>\n",
       "      <th>pixel776</th>\n",
       "      <th>pixel777</th>\n",
       "      <th>pixel778</th>\n",
       "      <th>pixel779</th>\n",
       "      <th>pixel780</th>\n",
       "      <th>pixel781</th>\n",
       "      <th>pixel782</th>\n",
       "      <th>pixel783</th>\n",
       "      <th>pixel784</th>\n",
       "    </tr>\n",
       "  </thead>\n",
       "  <tbody>\n",
       "    <tr>\n",
       "      <th>0</th>\n",
       "      <td>3</td>\n",
       "      <td>107</td>\n",
       "      <td>118</td>\n",
       "      <td>127</td>\n",
       "      <td>134</td>\n",
       "      <td>139</td>\n",
       "      <td>143</td>\n",
       "      <td>146</td>\n",
       "      <td>150</td>\n",
       "      <td>153</td>\n",
       "      <td>...</td>\n",
       "      <td>207</td>\n",
       "      <td>207</td>\n",
       "      <td>207</td>\n",
       "      <td>207</td>\n",
       "      <td>206</td>\n",
       "      <td>206</td>\n",
       "      <td>206</td>\n",
       "      <td>204</td>\n",
       "      <td>203</td>\n",
       "      <td>202</td>\n",
       "    </tr>\n",
       "    <tr>\n",
       "      <th>1</th>\n",
       "      <td>6</td>\n",
       "      <td>155</td>\n",
       "      <td>157</td>\n",
       "      <td>156</td>\n",
       "      <td>156</td>\n",
       "      <td>156</td>\n",
       "      <td>157</td>\n",
       "      <td>156</td>\n",
       "      <td>158</td>\n",
       "      <td>158</td>\n",
       "      <td>...</td>\n",
       "      <td>69</td>\n",
       "      <td>149</td>\n",
       "      <td>128</td>\n",
       "      <td>87</td>\n",
       "      <td>94</td>\n",
       "      <td>163</td>\n",
       "      <td>175</td>\n",
       "      <td>103</td>\n",
       "      <td>135</td>\n",
       "      <td>149</td>\n",
       "    </tr>\n",
       "    <tr>\n",
       "      <th>2</th>\n",
       "      <td>2</td>\n",
       "      <td>187</td>\n",
       "      <td>188</td>\n",
       "      <td>188</td>\n",
       "      <td>187</td>\n",
       "      <td>187</td>\n",
       "      <td>186</td>\n",
       "      <td>187</td>\n",
       "      <td>188</td>\n",
       "      <td>187</td>\n",
       "      <td>...</td>\n",
       "      <td>202</td>\n",
       "      <td>201</td>\n",
       "      <td>200</td>\n",
       "      <td>199</td>\n",
       "      <td>198</td>\n",
       "      <td>199</td>\n",
       "      <td>198</td>\n",
       "      <td>195</td>\n",
       "      <td>194</td>\n",
       "      <td>195</td>\n",
       "    </tr>\n",
       "    <tr>\n",
       "      <th>3</th>\n",
       "      <td>2</td>\n",
       "      <td>211</td>\n",
       "      <td>211</td>\n",
       "      <td>212</td>\n",
       "      <td>212</td>\n",
       "      <td>211</td>\n",
       "      <td>210</td>\n",
       "      <td>211</td>\n",
       "      <td>210</td>\n",
       "      <td>210</td>\n",
       "      <td>...</td>\n",
       "      <td>235</td>\n",
       "      <td>234</td>\n",
       "      <td>233</td>\n",
       "      <td>231</td>\n",
       "      <td>230</td>\n",
       "      <td>226</td>\n",
       "      <td>225</td>\n",
       "      <td>222</td>\n",
       "      <td>229</td>\n",
       "      <td>163</td>\n",
       "    </tr>\n",
       "    <tr>\n",
       "      <th>4</th>\n",
       "      <td>13</td>\n",
       "      <td>164</td>\n",
       "      <td>167</td>\n",
       "      <td>170</td>\n",
       "      <td>172</td>\n",
       "      <td>176</td>\n",
       "      <td>179</td>\n",
       "      <td>180</td>\n",
       "      <td>184</td>\n",
       "      <td>185</td>\n",
       "      <td>...</td>\n",
       "      <td>92</td>\n",
       "      <td>105</td>\n",
       "      <td>105</td>\n",
       "      <td>108</td>\n",
       "      <td>133</td>\n",
       "      <td>163</td>\n",
       "      <td>157</td>\n",
       "      <td>163</td>\n",
       "      <td>164</td>\n",
       "      <td>179</td>\n",
       "    </tr>\n",
       "  </tbody>\n",
       "</table>\n",
       "<p>5 rows × 785 columns</p>\n",
       "</div>"
      ],
      "text/plain": [
       "   label  pixel1  pixel2  pixel3  pixel4  pixel5  pixel6  pixel7  pixel8  \\\n",
       "0      3     107     118     127     134     139     143     146     150   \n",
       "1      6     155     157     156     156     156     157     156     158   \n",
       "2      2     187     188     188     187     187     186     187     188   \n",
       "3      2     211     211     212     212     211     210     211     210   \n",
       "4     13     164     167     170     172     176     179     180     184   \n",
       "\n",
       "   pixel9  ...  pixel775  pixel776  pixel777  pixel778  pixel779  pixel780  \\\n",
       "0     153  ...       207       207       207       207       206       206   \n",
       "1     158  ...        69       149       128        87        94       163   \n",
       "2     187  ...       202       201       200       199       198       199   \n",
       "3     210  ...       235       234       233       231       230       226   \n",
       "4     185  ...        92       105       105       108       133       163   \n",
       "\n",
       "   pixel781  pixel782  pixel783  pixel784  \n",
       "0       206       204       203       202  \n",
       "1       175       103       135       149  \n",
       "2       198       195       194       195  \n",
       "3       225       222       229       163  \n",
       "4       157       163       164       179  \n",
       "\n",
       "[5 rows x 785 columns]"
      ]
     },
     "execution_count": 7,
     "metadata": {},
     "output_type": "execute_result"
    }
   ],
   "source": [
    "train.head()"
   ]
  },
  {
   "cell_type": "code",
   "execution_count": 8,
   "id": "8a520da3",
   "metadata": {},
   "outputs": [],
   "source": [
    "label_names = train['label'].values"
   ]
  },
  {
   "cell_type": "code",
   "execution_count": 9,
   "id": "420896e3",
   "metadata": {},
   "outputs": [
    {
     "data": {
      "text/plain": [
       "(27455, 785)"
      ]
     },
     "execution_count": 9,
     "metadata": {},
     "output_type": "execute_result"
    }
   ],
   "source": [
    "train.shape"
   ]
  },
  {
   "cell_type": "code",
   "execution_count": 10,
   "id": "a9111514",
   "metadata": {},
   "outputs": [
    {
     "data": {
      "text/plain": [
       "array([ 0,  1,  2,  3,  4,  5,  6,  7,  8, 10, 11, 12, 13, 14, 15, 16, 17,\n",
       "       18, 19, 20, 21, 22, 23, 24], dtype=int64)"
      ]
     },
     "execution_count": 10,
     "metadata": {},
     "output_type": "execute_result"
    }
   ],
   "source": [
    "unique_val = np.array(label_names)\n",
    "np.unique(unique_val)"
   ]
  },
  {
   "cell_type": "code",
   "execution_count": 11,
   "id": "3762ceb7",
   "metadata": {},
   "outputs": [
    {
     "data": {
      "text/plain": [
       "array([ 3,  6,  2, ..., 18, 17, 23], dtype=int64)"
      ]
     },
     "execution_count": 11,
     "metadata": {},
     "output_type": "execute_result"
    }
   ],
   "source": [
    "unique_val"
   ]
  },
  {
   "cell_type": "code",
   "execution_count": 12,
   "id": "df9470f4",
   "metadata": {},
   "outputs": [
    {
     "data": {
      "text/plain": [
       "array([ 0,  1,  2,  3,  4,  5,  6,  7,  8, 10, 11, 12, 13, 14, 15, 16, 17,\n",
       "       18, 19, 20, 21, 22, 23, 24], dtype=int64)"
      ]
     },
     "execution_count": 12,
     "metadata": {},
     "output_type": "execute_result"
    }
   ],
   "source": [
    "np.unique(unique_val)"
   ]
  },
  {
   "cell_type": "code",
   "execution_count": 13,
   "id": "f105200f",
   "metadata": {},
   "outputs": [],
   "source": [
    "train.drop('label', axis = 1, inplace = True)"
   ]
  },
  {
   "cell_type": "code",
   "execution_count": 14,
   "id": "b20483d7",
   "metadata": {},
   "outputs": [],
   "source": [
    "images = train.values\n",
    "images = np.array([np.reshape(i, (28, 28)) for i in images])\n",
    "images = np.array([i.flatten() for i in images])"
   ]
  },
  {
   "cell_type": "markdown",
   "id": "55b26abe",
   "metadata": {},
   "source": [
    "# LabelBinarizer"
   ]
  },
  {
   "cell_type": "code",
   "execution_count": 17,
   "id": "3bc6fd54",
   "metadata": {},
   "outputs": [],
   "source": [
    "# one -hot 인코딩 하기\n",
    "# labelBinarizer 를 사용하여 분류한 것을 숫자 형태로 변경한다.\n",
    "# 다중 클래스 레이블 -> 이진 레이블로 변환 시켜준다.\n",
    "\n",
    "from sklearn.preprocessing import LabelBinarizer\n",
    "label_binrizer = LabelBinarizer()\n",
    "labels = label_binrizer.fit_transform(label_names)"
   ]
  },
  {
   "cell_type": "code",
   "execution_count": 15,
   "id": "7e7069d3",
   "metadata": {},
   "outputs": [
    {
     "data": {
      "text/plain": [
       "array([ 3,  6,  2, ..., 18, 17, 23], dtype=int64)"
      ]
     },
     "execution_count": 15,
     "metadata": {},
     "output_type": "execute_result"
    }
   ],
   "source": [
    "label_names"
   ]
  },
  {
   "cell_type": "code",
   "execution_count": 18,
   "id": "63c1380d",
   "metadata": {},
   "outputs": [],
   "source": [
    "from sklearn.model_selection import train_test_split"
   ]
  },
  {
   "cell_type": "code",
   "execution_count": 19,
   "id": "c4986673",
   "metadata": {},
   "outputs": [],
   "source": [
    "x_train, x_test, y_train, y_test = train_test_split(images, labels, test_size = 0.3, random_state = 101)"
   ]
  },
  {
   "cell_type": "code",
   "execution_count": 20,
   "id": "f29e07c3",
   "metadata": {},
   "outputs": [],
   "source": [
    "import keras\n",
    "from keras.models import Sequential\n",
    "from keras.layers import Dense, Conv2D, MaxPooling2D, Flatten, Dropout"
   ]
  },
  {
   "cell_type": "code",
   "execution_count": 22,
   "id": "c3f9a8b1",
   "metadata": {},
   "outputs": [],
   "source": [
    "batch_size = 256\n",
    "num_classes = 24\n",
    "epochs = 50"
   ]
  },
  {
   "cell_type": "markdown",
   "id": "3cb552c2",
   "metadata": {},
   "source": [
    "# 이미지 데이터 정규화"
   ]
  },
  {
   "cell_type": "code",
   "execution_count": 23,
   "id": "94e88306",
   "metadata": {},
   "outputs": [],
   "source": [
    "x_train = x_train / 255\n",
    "x_test = x_test / 255"
   ]
  },
  {
   "cell_type": "code",
   "execution_count": 24,
   "id": "6ccb239e",
   "metadata": {},
   "outputs": [],
   "source": [
    "x_train = x_train.reshape(x_train.shape[0], 28, 28, 1)"
   ]
  },
  {
   "cell_type": "code",
   "execution_count": 25,
   "id": "44db0058",
   "metadata": {},
   "outputs": [],
   "source": [
    "x_test = x_test.reshape(x_test.shape[0], 28, 28, 1)"
   ]
  },
  {
   "cell_type": "code",
   "execution_count": 26,
   "id": "0a1cf38d",
   "metadata": {},
   "outputs": [
    {
     "data": {
      "text/plain": [
       "<matplotlib.image.AxesImage at 0x29b646b7be0>"
      ]
     },
     "execution_count": 26,
     "metadata": {},
     "output_type": "execute_result"
    },
    {
     "data": {
      "image/png": "[encoded data removed]",
      "text/plain": [
       "<Figure size 432x288 with 1 Axes>"
      ]
     },
     "metadata": {
      "needs_background": "light"
     },
     "output_type": "display_data"
    }
   ],
   "source": [
    "plt.imshow(x_train[0].reshape(28,28))"
   ]
  },
  {
   "cell_type": "markdown",
   "id": "6f3b57bb",
   "metadata": {},
   "source": [
    "# 층 구성"
   ]
  },
  {
   "cell_type": "code",
   "execution_count": 30,
   "id": "a44d95c7",
   "metadata": {},
   "outputs": [],
   "source": [
    "model = Sequential()\n",
    "model.add(Conv2D(64, kernel_size=(3,3), activation = 'relu', input_shape=(28, 28 ,1) ))\n",
    "model.add(MaxPooling2D(pool_size = (2, 2)))\n",
    "\n",
    "model.add(Conv2D(64, kernel_size = (3, 3), activation = 'relu'))\n",
    "model.add(MaxPooling2D(pool_size = (2, 2)))\n",
    "model.add(Dropout(0.2))\n",
    "\n",
    "model.add(Conv2D(64, kernel_size = (3, 3), activation = 'softmax'))\n",
    "model.add(MaxPooling2D(pool_size = (2, 2)))\n",
    "\n",
    "model.add(Flatten())\n",
    "model.add(Dense(128, activation = 'relu'))\n",
    "model.add(Dropout(0.2))\n",
    "\n",
    "model.add(Dense(num_classes, activation = 'softmax'))"
   ]
  },
  {
   "cell_type": "markdown",
   "id": "7619bed9",
   "metadata": {},
   "source": [
    "# compile"
   ]
  },
  {
   "cell_type": "code",
   "execution_count": 31,
   "id": "fa5526dc",
   "metadata": {},
   "outputs": [],
   "source": [
    "model.compile(loss = keras.losses.categorical_crossentropy, optimizer=keras.optimizers.Adam(),\n",
    "              metrics=['AUC'])"
   ]
  },
  {
   "cell_type": "markdown",
   "id": "8290c120",
   "metadata": {},
   "source": [
    "# fit"
   ]
  },
  {
   "cell_type": "code",
   "execution_count": 32,
   "id": "60ebd9fd",
   "metadata": {},
   "outputs": [
    {
     "name": "stdout",
     "output_type": "stream",
     "text": [
      "Epoch 1/50\n",
      "76/76 [==============================] - 9s 111ms/step - loss: 3.1718 - auc: 0.5266 - val_loss: 3.1423 - val_auc: 0.6072\n",
      "Epoch 2/50\n",
      "76/76 [==============================] - 8s 108ms/step - loss: 2.9217 - auc: 0.7218 - val_loss: 2.6273 - val_auc: 0.8306\n",
      "Epoch 3/50\n",
      "76/76 [==============================] - 8s 108ms/step - loss: 2.3380 - auc: 0.8678 - val_loss: 2.0064 - val_auc: 0.9135\n",
      "Epoch 4/50\n",
      "76/76 [==============================] - 8s 110ms/step - loss: 1.9261 - auc: 0.9150 - val_loss: 1.6726 - val_auc: 0.9433\n",
      "Epoch 5/50\n",
      "76/76 [==============================] - 8s 110ms/step - loss: 1.6331 - auc: 0.9423 - val_loss: 1.3928 - val_auc: 0.9617\n",
      "Epoch 6/50\n",
      "76/76 [==============================] - 9s 113ms/step - loss: 1.3549 - auc: 0.9617 - val_loss: 1.1297 - val_auc: 0.9761\n",
      "Epoch 7/50\n",
      "76/76 [==============================] - 8s 111ms/step - loss: 1.1536 - auc: 0.9726 - val_loss: 0.9664 - val_auc: 0.9822\n",
      "Epoch 8/50\n",
      "76/76 [==============================] - 9s 114ms/step - loss: 0.9845 - auc: 0.9802 - val_loss: 0.8357 - val_auc: 0.9863\n",
      "Epoch 9/50\n",
      "76/76 [==============================] - 8s 110ms/step - loss: 0.8582 - auc: 0.9847 - val_loss: 0.6517 - val_auc: 0.9926\n",
      "Epoch 10/50\n",
      "76/76 [==============================] - 9s 114ms/step - loss: 0.7237 - auc: 0.9893 - val_loss: 0.5410 - val_auc: 0.9948\n",
      "Epoch 11/50\n",
      "76/76 [==============================] - 8s 112ms/step - loss: 0.6387 - auc: 0.9916 - val_loss: 0.4800 - val_auc: 0.9960\n",
      "Epoch 12/50\n",
      "76/76 [==============================] - 9s 114ms/step - loss: 0.5720 - auc: 0.9932 - val_loss: 0.4176 - val_auc: 0.9970\n",
      "Epoch 13/50\n",
      "76/76 [==============================] - 8s 111ms/step - loss: 0.5153 - auc: 0.9943 - val_loss: 0.3686 - val_auc: 0.9976\n",
      "Epoch 14/50\n",
      "76/76 [==============================] - 9s 112ms/step - loss: 0.4684 - auc: 0.9954 - val_loss: 0.3307 - val_auc: 0.9982\n",
      "Epoch 15/50\n",
      "76/76 [==============================] - 8s 112ms/step - loss: 0.4230 - auc: 0.9962 - val_loss: 0.3122 - val_auc: 0.9984\n",
      "Epoch 16/50\n",
      "76/76 [==============================] - 9s 116ms/step - loss: 0.3842 - auc: 0.9967 - val_loss: 0.2556 - val_auc: 0.9990\n",
      "Epoch 17/50\n",
      "76/76 [==============================] - 9s 116ms/step - loss: 0.3500 - auc: 0.9973 - val_loss: 0.2265 - val_auc: 0.9993\n",
      "Epoch 18/50\n",
      "76/76 [==============================] - 9s 117ms/step - loss: 0.3190 - auc: 0.9977 - val_loss: 0.1995 - val_auc: 0.9994\n",
      "Epoch 19/50\n",
      "76/76 [==============================] - 8s 112ms/step - loss: 0.2787 - auc: 0.9984 - val_loss: 0.1708 - val_auc: 0.9996\n",
      "Epoch 20/50\n",
      "76/76 [==============================] - 8s 107ms/step - loss: 0.2525 - auc: 0.9986 - val_loss: 0.1479 - val_auc: 0.9997\n",
      "Epoch 21/50\n",
      "76/76 [==============================] - 10s 126ms/step - loss: 0.2330 - auc: 0.9989 - val_loss: 0.1679 - val_auc: 0.9995\n",
      "Epoch 22/50\n",
      "76/76 [==============================] - 9s 122ms/step - loss: 0.2158 - auc: 0.9989 - val_loss: 0.1244 - val_auc: 0.9998\n",
      "Epoch 23/50\n",
      "76/76 [==============================] - 9s 115ms/step - loss: 0.1937 - auc: 0.9992 - val_loss: 0.1016 - val_auc: 0.9999\n",
      "Epoch 24/50\n",
      "76/76 [==============================] - 8s 106ms/step - loss: 0.1771 - auc: 0.9993 - val_loss: 0.0887 - val_auc: 0.9999\n",
      "Epoch 25/50\n",
      "76/76 [==============================] - 8s 104ms/step - loss: 0.1714 - auc: 0.9993 - val_loss: 0.0774 - val_auc: 0.9999\n",
      "Epoch 26/50\n",
      "76/76 [==============================] - 8s 105ms/step - loss: 0.1556 - auc: 0.9994 - val_loss: 0.0771 - val_auc: 0.9999\n",
      "Epoch 27/50\n",
      "76/76 [==============================] - 9s 114ms/step - loss: 0.1433 - auc: 0.9995 - val_loss: 0.0630 - val_auc: 1.0000\n",
      "Epoch 28/50\n",
      "76/76 [==============================] - 8s 107ms/step - loss: 0.1270 - auc: 0.9996 - val_loss: 0.0534 - val_auc: 1.0000\n",
      "Epoch 29/50\n",
      "76/76 [==============================] - 8s 106ms/step - loss: 0.1158 - auc: 0.9996 - val_loss: 0.0514 - val_auc: 1.0000\n",
      "Epoch 30/50\n",
      "76/76 [==============================] - 9s 115ms/step - loss: 0.1111 - auc: 0.9997 - val_loss: 0.0435 - val_auc: 1.0000\n",
      "Epoch 31/50\n",
      "76/76 [==============================] - 9s 116ms/step - loss: 0.1023 - auc: 0.9997 - val_loss: 0.0418 - val_auc: 1.0000\n",
      "Epoch 32/50\n",
      "76/76 [==============================] - 8s 105ms/step - loss: 0.0925 - auc: 0.9998 - val_loss: 0.0357 - val_auc: 1.0000\n",
      "Epoch 33/50\n",
      "76/76 [==============================] - 8s 102ms/step - loss: 0.0883 - auc: 0.9998 - val_loss: 0.0348 - val_auc: 1.0000\n",
      "Epoch 34/50\n",
      "76/76 [==============================] - 8s 102ms/step - loss: 0.0880 - auc: 0.9997 - val_loss: 0.0310 - val_auc: 1.0000\n",
      "Epoch 35/50\n",
      "76/76 [==============================] - 8s 104ms/step - loss: 0.0795 - auc: 0.9997 - val_loss: 0.0273 - val_auc: 1.0000\n",
      "Epoch 36/50\n",
      "76/76 [==============================] - 8s 102ms/step - loss: 0.0776 - auc: 0.9998 - val_loss: 0.0256 - val_auc: 1.0000\n",
      "Epoch 37/50\n",
      "76/76 [==============================] - 8s 103ms/step - loss: 0.0713 - auc: 0.9998 - val_loss: 0.0222 - val_auc: 1.0000\n",
      "Epoch 38/50\n",
      "76/76 [==============================] - 8s 103ms/step - loss: 0.0680 - auc: 0.9998 - val_loss: 0.0222 - val_auc: 1.0000\n",
      "Epoch 39/50\n",
      "76/76 [==============================] - 8s 107ms/step - loss: 0.0619 - auc: 0.9997 - val_loss: 0.0178 - val_auc: 1.0000\n",
      "Epoch 40/50\n",
      "76/76 [==============================] - 8s 107ms/step - loss: 0.0589 - auc: 0.9999 - val_loss: 0.0194 - val_auc: 1.0000\n",
      "Epoch 41/50\n",
      "76/76 [==============================] - 8s 105ms/step - loss: 0.0554 - auc: 0.9999 - val_loss: 0.0183 - val_auc: 1.0000\n",
      "Epoch 42/50\n",
      "76/76 [==============================] - 8s 102ms/step - loss: 0.0540 - auc: 0.9999 - val_loss: 0.0144 - val_auc: 1.0000\n",
      "Epoch 43/50\n",
      "76/76 [==============================] - 8s 103ms/step - loss: 0.0495 - auc: 0.9999 - val_loss: 0.0148 - val_auc: 1.0000\n",
      "Epoch 44/50\n",
      "76/76 [==============================] - 8s 101ms/step - loss: 0.0507 - auc: 0.9998 - val_loss: 0.0170 - val_auc: 1.0000\n",
      "Epoch 45/50\n",
      "76/76 [==============================] - 8s 106ms/step - loss: 0.0491 - auc: 0.9998 - val_loss: 0.0167 - val_auc: 1.0000\n",
      "Epoch 46/50\n",
      "76/76 [==============================] - 8s 108ms/step - loss: 0.0496 - auc: 0.9999 - val_loss: 0.0117 - val_auc: 1.0000\n",
      "Epoch 47/50\n",
      "76/76 [==============================] - 8s 106ms/step - loss: 0.0437 - auc: 0.9999 - val_loss: 0.0109 - val_auc: 1.0000\n",
      "Epoch 48/50\n",
      "76/76 [==============================] - 8s 107ms/step - loss: 0.0372 - auc: 0.9999 - val_loss: 0.0103 - val_auc: 1.0000\n",
      "Epoch 49/50\n",
      "76/76 [==============================] - 8s 103ms/step - loss: 0.0412 - auc: 0.9999 - val_loss: 0.0087 - val_auc: 1.0000\n",
      "Epoch 50/50\n",
      "76/76 [==============================] - 8s 102ms/step - loss: 0.0381 - auc: 0.9999 - val_loss: 0.0095 - val_auc: 1.0000\n"
     ]
    }
   ],
   "source": [
    "history = model.fit(x_train, y_train, validation_data = (x_test, y_test), epochs=epochs, batch_size=batch_size)"
   ]
  },
  {
   "cell_type": "code",
   "execution_count": 33,
   "id": "dc5e6067",
   "metadata": {},
   "outputs": [],
   "source": [
    "test_labels = test['label']"
   ]
  },
  {
   "cell_type": "code",
   "execution_count": 34,
   "id": "2be9e025",
   "metadata": {},
   "outputs": [],
   "source": [
    "test.drop('label', axis = 1, inplace = True)"
   ]
  },
  {
   "cell_type": "code",
   "execution_count": 35,
   "id": "6cafd6e8",
   "metadata": {},
   "outputs": [],
   "source": [
    "test_images = test.values\n",
    "test_images = np.array([np.reshape(i, (28, 28)) for i in test_images])\n",
    "test_images = np.array([i.flatten() for i in test_images])"
   ]
  },
  {
   "cell_type": "code",
   "execution_count": 36,
   "id": "5631fd51",
   "metadata": {},
   "outputs": [],
   "source": [
    "test_labels = label_binrizer.fit_transform(test_labels)"
   ]
  },
  {
   "cell_type": "code",
   "execution_count": 37,
   "id": "13f6e50d",
   "metadata": {},
   "outputs": [],
   "source": [
    "test_images = test_images.reshape(test_images.shape[0], 28, 28, 1)\n"
   ]
  },
  {
   "cell_type": "code",
   "execution_count": 38,
   "id": "faa59f80",
   "metadata": {},
   "outputs": [
    {
     "data": {
      "text/plain": [
       "(7172, 28, 28, 1)"
      ]
     },
     "execution_count": 38,
     "metadata": {},
     "output_type": "execute_result"
    }
   ],
   "source": [
    "test_images.shape"
   ]
  },
  {
   "cell_type": "markdown",
   "id": "b2127edd",
   "metadata": {},
   "source": [
    "# predict"
   ]
  },
  {
   "cell_type": "code",
   "execution_count": 39,
   "id": "63fe0457",
   "metadata": {},
   "outputs": [
    {
     "name": "stdout",
     "output_type": "stream",
     "text": [
      "225/225 [==============================] - 1s 5ms/step\n"
     ]
    }
   ],
   "source": [
    "y_pred = model.predict(test_images)"
   ]
  },
  {
   "cell_type": "code",
   "execution_count": 40,
   "id": "bbdfb181",
   "metadata": {},
   "outputs": [],
   "source": [
    "from sklearn.metrics import accuracy_score"
   ]
  },
  {
   "cell_type": "code",
   "execution_count": 41,
   "id": "8c15029a",
   "metadata": {},
   "outputs": [
    {
     "data": {
      "text/plain": [
       "0.6971556051310652"
      ]
     },
     "execution_count": 41,
     "metadata": {},
     "output_type": "execute_result"
    }
   ],
   "source": [
    "accuracy_score(test_labels, y_pred.round())"
   ]
  },
  {
   "cell_type": "code",
   "execution_count": null,
   "id": "1ff12f0d",
   "metadata": {},
   "outputs": [],
   "source": []
  }
 ],
 "metadata": {
  "kernelspec": {
   "display_name": "Python 3 (ipykernel)",
   "language": "python",
   "name": "python3"
  },
  "language_info": {
   "codemirror_mode": {
    "name": "ipython",
    "version": 3
   },
   "file_extension": ".py",
   "mimetype": "text/x-python",
   "name": "python",
   "nbconvert_exporter": "python",
   "pygments_lexer": "ipython3",
   "version": "3.9.12"
  },
  "toc": {
   "base_numbering": 1,
   "nav_menu": {},
   "number_sections": true,
   "sideBar": true,
   "skip_h1_title": false,
   "title_cell": "Table of Contents",
   "title_sidebar": "Contents",
   "toc_cell": false,
   "toc_position": {},
   "toc_section_display": true,
   "toc_window_display": false
  }
 },
 "nbformat": 4,
 "nbformat_minor": 5
}
